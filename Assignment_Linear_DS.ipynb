{
 "cells": [
  {
   "cell_type": "raw",
   "id": "e6b55bfe",
   "metadata": {},
   "source": []
  },
  {
   "cell_type": "code",
   "execution_count": 39,
   "id": "a7e514a0",
   "metadata": {},
   "outputs": [
    {
     "name": "stdout",
     "output_type": "stream",
     "text": [
      "Enter the array ( space seperated ) : 4 1 -1 6 2 3\n",
      "Enter the value of sum : 5\n",
      "Count of pairs is 3\n"
     ]
    }
   ],
   "source": [
    "#Q1. Write a program to find all pairs of an integer array whose sum is equal to a given number?\n",
    "\n",
    "\n",
    "def pair_count(arr, n, sum):\n",
    " \n",
    "    count = 0  \n",
    "    for i in range(0, n):\n",
    "        for j in range(i + 1, n):\n",
    "            if arr[i] + arr[j] == sum:\n",
    "                count += 1\n",
    " \n",
    "    return count\n",
    " \n",
    "arr = [int(x) for x in input(\"Enter the array ( space seperated ) : \").split()]\n",
    "n = len(arr)\n",
    "sum = int(input(\"Enter the value of sum : \"))\n",
    "print(\"Count of pairs is\",pair_count(arr, n, sum))"
   ]
  },
  {
   "cell_type": "code",
   "execution_count": 40,
   "id": "158f598b",
   "metadata": {},
   "outputs": [
    {
     "name": "stdout",
     "output_type": "stream",
     "text": [
      "Enter the array ( space seperated ) : 1 2 3 4 5\n",
      "Original Array : [1, 2, 3, 4, 5]\n",
      "Reversed array : [5, 4, 3, 2, 1]\n"
     ]
    }
   ],
   "source": [
    "#Q2. Write a program to reverse an array in place? In place means you cannot create a new array. You have to update the original array.\n",
    "\n",
    "def reverseList(arr, start, end):\n",
    "    while start < end:\n",
    "        arr[start], arr[end] = arr[end], arr[start]\n",
    "        start += 1\n",
    "        end -= 1\n",
    "\n",
    "arr = [int(x) for x in input(\"Enter the array ( space seperated ) : \").split()]\n",
    "print(f\"Original Array : {arr}\")\n",
    "start = 0\n",
    "end = len(arr)-1\n",
    "reverseList(arr, start, end)\n",
    "print(f\"Reversed array : {arr}\")"
   ]
  },
  {
   "cell_type": "code",
   "execution_count": 41,
   "id": "17e7652a",
   "metadata": {},
   "outputs": [
    {
     "name": "stdout",
     "output_type": "stream",
     "text": [
      "Enter the string1 : ABCD\n",
      "Enter the string2 : CDAB\n",
      "Strings are rotations of each other\n"
     ]
    }
   ],
   "source": [
    "#Q3. Write a program to check if two strings are a rotation of each other?\n",
    "\n",
    "def check_rotation(string_1, string_2):\n",
    "\n",
    "     \n",
    "    q1 = []\n",
    "    for i in range(len(string_1)):\n",
    "        q1.insert(0, string_1[i])\n",
    " \n",
    "    q2 = []\n",
    "    for i in range(len(string_2)):\n",
    "        q2.insert(0, string_2[i])\n",
    " \n",
    "    k = len(string_2)\n",
    "    while (k > 0):\n",
    "        ch = q2[0]\n",
    "        q2.pop(0)\n",
    "        q2.append(ch)\n",
    "        if (q2 == q1):\n",
    "            return True\n",
    " \n",
    "        k -= 1\n",
    " \n",
    "    return False\n",
    " \n",
    "if __name__ == \"__main__\":\n",
    " \n",
    "    string1 = input(\"Enter the string1 : \")\n",
    "    string2 = input(\"Enter the string2 : \")\n",
    "    if check_rotation(string1, string2):\n",
    "        print(\"Strings are rotations of each other\")\n",
    "    else:\n",
    "        print(\"Strings are not rotations of each other\")"
   ]
  },
  {
   "cell_type": "code",
   "execution_count": 65,
   "id": "8c3efd12",
   "metadata": {},
   "outputs": [
    {
     "name": "stdout",
     "output_type": "stream",
     "text": [
      "Enter the string : malayalam\n",
      "First non-repeating character is y\n"
     ]
    }
   ],
   "source": [
    "#Q4. Write a program to print the first non-repeated character from a string?\n",
    "\n",
    "\n",
    "\n",
    "def non_rep(string):\n",
    "    index=0\n",
    "    fnc=\"\"\n",
    "    for i in string:\n",
    "        if string.count(i) == 1:\n",
    "            fnc+=i\n",
    "            break\n",
    "        else:\n",
    "            index+=1 \n",
    "    if index == len(string):\n",
    "        print(\"Either all characters are repeating or string is empty\")\n",
    "    else:\n",
    "        print(\"First non-repeating character is\" , fnc)\n",
    "\n",
    "if __name__ == '__main__':\n",
    "    string = input(\"Enter the string : \")\n",
    "    non_rep(string)\n",
    "    "
   ]
  },
  {
   "cell_type": "code",
   "execution_count": 5,
   "id": "0adfdeed",
   "metadata": {},
   "outputs": [
    {
     "name": "stdout",
     "output_type": "stream",
     "text": [
      "Enter the number of disks : 3\n",
      "1   |   |   \n",
      "2   |   |   \n",
      "3   |   |   \n",
      "---------\n",
      "|   |   |   \n",
      "2   |   |   \n",
      "3   |   1   \n",
      "---------\n",
      "|   |   |   \n",
      "|   |   |   \n",
      "3   2   1   \n",
      "---------\n",
      "|   |   |   \n",
      "|   1   |   \n",
      "3   2   |   \n",
      "---------\n",
      "|   |   |   \n",
      "|   1   |   \n",
      "|   2   3   \n",
      "---------\n",
      "|   |   |   \n",
      "|   |   |   \n",
      "1   2   3   \n",
      "---------\n",
      "|   |   |   \n",
      "|   |   2   \n",
      "1   |   3   \n",
      "---------\n",
      "|   |   1   \n",
      "|   |   2   \n",
      "|   |   3   \n",
      "---------\n"
     ]
    }
   ],
   "source": [
    "# Q5. Read about the Tower of Hanoi algorithm. Write a program to implement it.\n",
    "\n",
    "\n",
    "def move (towers, from_tower, to_tower):\n",
    "    if len(towers[from_tower]) > 0:\n",
    "        disk = towers[from_tower].pop()\n",
    "        towers[to_tower].append(disk)\n",
    "    else:\n",
    "        print(f'${from_tower} is empty, impossible to move something')\n",
    "    return towers\n",
    "def print_towers(towers):\n",
    "    tower_len = len(towers)\n",
    "    for i in range(tower_len,0,-1):\n",
    "        for tower in towers:\n",
    "            if len(tower) >= i:\n",
    "                print(tower[i - 1], end=' '*tower_len)\n",
    "            else:\n",
    "                print('|', end=' '*tower_len)\n",
    "        print()\n",
    "    print('-'*tower_len**2)\n",
    "def solve_tower_of_hanoi(towers, n, start_tower, dest_tower, aux_tower):\n",
    "    if n == 0:\n",
    "        return\n",
    "    solve_tower_of_hanoi(towers, n-1, start_tower, aux_tower, dest_tower)\n",
    "    \n",
    "    move(towers, start_tower, dest_tower)\n",
    "    print_towers((towers))\n",
    "\n",
    "    solve_tower_of_hanoi(towers, n-1, aux_tower, dest_tower, start_tower)\n",
    "    \n",
    "towers = [[3,2,1], [], []]\n",
    "n = input(\"Enter the number of disks : \")\n",
    "print_towers(towers)\n",
    "solve_tower_of_hanoi(towers, 3, 0, 2, 1)"
   ]
  },
  {
   "cell_type": "code",
   "execution_count": 10,
   "id": "0f89a74c",
   "metadata": {},
   "outputs": [
    {
     "name": "stdout",
     "output_type": "stream",
     "text": [
      "Enter the Postfix expression : AB+CD-\n",
      "Prefix expression :  +AB-CD\n"
     ]
    }
   ],
   "source": [
    "#Q6. Read about infix, prefix, and postfix expressions. Write a program to convert postfix to prefix expression.\n",
    "\n",
    "\n",
    " \n",
    "def is_operator(c):\n",
    "    if c == \"*\" or c == \"+\" or c == \"-\" or c == \"/\" or c == \"^\" or c == \"(\" or c == \")\":\n",
    "        return True\n",
    "    return False\n",
    " \n",
    "\n",
    "def post_to_pre(post_exp):\n",
    "    s = []\n",
    "    length = len(post_exp)\n",
    "    for i in range(length):\n",
    "        if (is_operator(post_exp[i])):\n",
    "            op1 = s[-1]\n",
    "            s.pop()\n",
    "            op2 = s[-1]\n",
    "            s.pop()\n",
    "            temp = post_exp[i] + op2 + op1\n",
    "            s.append(temp)\n",
    "        else:\n",
    "            s.append(post_exp[i])\n",
    " \n",
    "    \n",
    "    answer = \"\"\n",
    "    for i in s:\n",
    "        answer += i\n",
    "    return answer\n",
    " \n",
    "if __name__ == \"__main__\":\n",
    " \n",
    "    post_exp = input(\"Enter the Postfix expression : \")\n",
    "    print(\"Prefix expression : \", post_to_pre(post_exp))"
   ]
  },
  {
   "cell_type": "code",
   "execution_count": 9,
   "id": "5ae48b4d",
   "metadata": {},
   "outputs": [
    {
     "name": "stdout",
     "output_type": "stream",
     "text": [
      "Enter the Prefix expression : *-A/BC-/AKL\n",
      "Infix expression : ((A-(B/C))*((A/K)-L))\n"
     ]
    }
   ],
   "source": [
    "#Q7. Write a program to convert prefix expression to infix expression.\n",
    "\n",
    "def prefix_to_infix(prefix):\n",
    "    stack = []\n",
    "     \n",
    "    i = len(prefix) - 1\n",
    "    while i >= 0:\n",
    "        if not is_operator(prefix[i]):\n",
    "            stack.append(prefix[i])\n",
    "            i -= 1\n",
    "        else:\n",
    "            str = \"(\" + stack.pop() + prefix[i] + stack.pop() + \")\"\n",
    "            stack.append(str)\n",
    "            i -= 1\n",
    "     \n",
    "    return stack.pop()\n",
    " \n",
    "def is_operator(c):\n",
    "    if c == \"*\" or c == \"+\" or c == \"-\" or c == \"/\" or c == \"^\" or c == \"(\" or c == \")\":\n",
    "        return True\n",
    "    else:\n",
    "        return False\n",
    "\n",
    "if __name__==\"__main__\":\n",
    "    string = input(\"Enter the Prefix expression : \")\n",
    "    print(f\"Infix expression : {prefix_to_infix(string)}\")"
   ]
  },
  {
   "cell_type": "code",
   "execution_count": 11,
   "id": "8a091106",
   "metadata": {},
   "outputs": [
    {
     "name": "stdout",
     "output_type": "stream",
     "text": [
      "Enter the string : ((()))()()\n",
      "Closed\n"
     ]
    }
   ],
   "source": [
    "#Q8. Write a program to check if all the brackets are closed in a given code snippet.\n",
    "\n",
    "def is_closed(exp):\n",
    " \n",
    "    flag = True\n",
    "    count = 0\n",
    "    for i in range(len(exp)):\n",
    "        if (exp[i] == '('):\n",
    "            count += 1\n",
    "        else:\n",
    "            count -= 1\n",
    " \n",
    "        if (count < 0):\n",
    "            flag = False\n",
    "            break\n",
    "\n",
    "    if (count != 0):\n",
    "        flag = False\n",
    "    return flag\n",
    " \n",
    "if __name__ == '__main__':\n",
    "    expression = input(\"Enter the string : \")\n",
    "    if (is_closed(expression)):\n",
    "        print(\"Closed\")\n",
    "    else:\n",
    "        print(\"Not Closed\")\n",
    " "
   ]
  },
  {
   "cell_type": "code",
   "execution_count": 25,
   "id": "4b56bf13",
   "metadata": {},
   "outputs": [
    {
     "name": "stdout",
     "output_type": "stream",
     "text": [
      "Original Stack\n",
      "5\n",
      "4\n",
      "3\n",
      "2\n",
      "1\n",
      "\n",
      "Stack after Reversing\n",
      "1\n",
      "2\n",
      "3\n",
      "4\n",
      "5\n"
     ]
    }
   ],
   "source": [
    "#Q9. Write a program to reverse a stack.\n",
    "\n",
    "class Stack:\n",
    "\n",
    "    def __init__(self):\n",
    "        self.Elements = []\n",
    "\n",
    "    def push(self, value):\n",
    "        self.Elements.append(value)\n",
    "        \n",
    "    def pop(self):\n",
    "        return self.Elements.pop()\n",
    "    \n",
    "    def empty(self):\n",
    "        return self.Elements == []\n",
    "\n",
    "    def show(self):\n",
    "        for value in reversed(self.Elements):\n",
    "            print(value)\n",
    "\n",
    "def BottomInsert(s, value):\n",
    "\n",
    "    if s.empty():\n",
    "\n",
    "        s.push(value)\n",
    "\n",
    "    else:\n",
    "        popped = s.pop()\n",
    "        BottomInsert(s, value)\n",
    "        s.push(popped)\n",
    "\n",
    "def Reverse(s):\n",
    "    if s.empty():\n",
    "        pass\n",
    "    else:\n",
    "        popped = s.pop()\n",
    "        Reverse(s)\n",
    "        BottomInsert(s, popped)\n",
    "\n",
    "stk = Stack()\n",
    "\n",
    "stk.push(1)\n",
    "stk.push(2)\n",
    "stk.push(3)\n",
    "stk.push(4)\n",
    "stk.push(5)\n",
    "\n",
    "print(\"Original Stack\")\n",
    "stk.show()\n",
    "\n",
    "print(\"\\nStack after Reversing\")\n",
    "Reverse(stk)\n",
    "stk.show()"
   ]
  },
  {
   "cell_type": "code",
   "execution_count": 3,
   "id": "987b540e",
   "metadata": {},
   "outputs": [
    {
     "name": "stdout",
     "output_type": "stream",
     "text": [
      "Enter the numbers ( space seperated ) : 20 10 156 30 45\n",
      "Smallest number : 10\n"
     ]
    }
   ],
   "source": [
    "#Q10. Write a program to find the smallest number using a stack.\n",
    "\n",
    "arr = [int(x) for x in input(\"Enter the numbers ( space seperated ) : \").split()]\n",
    "          \n",
    "min = arr[0]    \n",
    "     \n",
    "for i in range(0, len(arr)):    \n",
    "    if(arr[i] < min):    \n",
    "        min = arr[i]  \n",
    "\n",
    "print(\"Smallest number : \" + str(min))    \n"
   ]
  },
  {
   "cell_type": "code",
   "execution_count": null,
   "id": "8941400b",
   "metadata": {},
   "outputs": [],
   "source": []
  }
 ],
 "metadata": {
  "kernelspec": {
   "display_name": "Python 3 (ipykernel)",
   "language": "python",
   "name": "python3"
  },
  "language_info": {
   "codemirror_mode": {
    "name": "ipython",
    "version": 3
   },
   "file_extension": ".py",
   "mimetype": "text/x-python",
   "name": "python",
   "nbconvert_exporter": "python",
   "pygments_lexer": "ipython3",
   "version": "3.9.12"
  }
 },
 "nbformat": 4,
 "nbformat_minor": 5
}
